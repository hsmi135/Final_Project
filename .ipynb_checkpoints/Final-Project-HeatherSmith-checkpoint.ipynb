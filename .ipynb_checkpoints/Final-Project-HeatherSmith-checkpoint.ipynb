{
 "cells": [
  {
   "cell_type": "code",
   "execution_count": null,
   "metadata": {},
   "outputs": [],
   "source": [
    "# import modules\n",
    "import random"
   ]
  },
  {
   "cell_type": "code",
   "execution_count": null,
   "metadata": {},
   "outputs": [],
   "source": []
  },
  {
   "cell_type": "code",
   "execution_count": null,
   "metadata": {},
   "outputs": [],
   "source": [
    "#Define Individual Class\n",
    "# needs phenotype attribute\n",
    "\n",
    "class individual:\n",
    "    \n",
    "    def __init__(self,color=\"white\",x=0.0,y=0.0): # Add default values for phenotype and \n",
    "        self.color=color               #self attribute self.color is called by color  \n",
    "        \n",
    "        \n",
    "## Method to create random indi movement  \n",
    "    \n",
    "    def move(self): \n",
    "        dirs = [\"u\",\"d\",\"l\",\"r\"]  ## directions indi can move\n",
    "        pos = [self.x,self.y]      ## individual position\n",
    "        \n",
    "        moves = random.choice(dirs) # Randomly draws a direction - u, d, l, or r\n",
    "        if moves == \"u\" : # Test what direction was drawn and update position accordingly\n",
    "            pos[1]=pos[1]+1      ## pos 0 = x position and 1 = y position\n",
    "        elif moves == \"d\":\n",
    "            pos[1]=pos[1]-1\n",
    "        elif moves == \"l\":\n",
    "            pos[0]=pos[0]-1\n",
    "        elif moves == \"r\":\n",
    "            pos[0]=pos[0]+1\n",
    "        else:\n",
    "            print(\"Something's wrong! Direction is not u, d, l, or r.\")\n",
    "\n",
    "        self.x=pos[0]      ## updating x posititon\n",
    "        self.y=pos[1]"
   ]
  },
  {
   "cell_type": "code",
   "execution_count": null,
   "metadata": {},
   "outputs": [],
   "source": [
    "#Define Population Class\n",
    "# needs a list of individuals that is updated as indis move from one pop to another\n",
    "# needs methods: to add and remove indits; and calculate & print frequency of phenotypes amoong indis.\n",
    "\n",
    "class population:\n",
    "    \n",
    "    def __init__(self,popsize=7,movement=16)  #setting defaults for movement (the number of steps the indi will take) and population size\n",
    "    self.movement=movement\n",
    "    self.popSize=popSize\n",
    "    self.xlist=[]     ## creat x and y coordinate lists to use in location tracking\n",
    "    self.ylist=[]\n",
    "        \n",
    "    indis_list=[]    ## creating an empty list for individuals \n",
    "        \n",
    "    for i in range (0, popSize):\n",
    "        indis_list.append(individual(id=i+1))   ## append the individual to the empty list \n",
    "    self.indis_list=indis_list\n",
    "                        # This creates a list of individuals in the population. The \n",
    "                        # number of individs equals to popsize (whith phenotypes recorded)\n",
    "   \n",
    "\n",
    "## Method to add & remove indis from population\n",
    "\n",
    "    def move(self): # make individuals move based on the default movement time steps\n",
    "        for i in self.indis_list:\n",
    "            for m in range(self.movement):      \n",
    "                i.move()     \n",
    "\n",
    "\n",
    "\n",
    "    def listLocations(self): # Add necessary arguments\n",
    "        # create a list of locations\n",
    "        \n",
    "        for i in self.indis_list:   ## creat a list of locations of the individual and append the location to the x and y list for plotting \n",
    "            print(i.x, i.y)\n",
    "        \n",
    "        for i in self.indis_list:\n",
    "            self.xlist.append(i.x)\n",
    "            self.ylist.append(i.y)"
   ]
  },
  {
   "cell_type": "code",
   "execution_count": null,
   "metadata": {},
   "outputs": [],
   "source": [
    "#Define Landscape Calss\n",
    "# needs a list of populations and dispersal matrix\n",
    "#methods: uses probibilitites in dispersal matrix to determine if indi moves or stays at each time step"
   ]
  }
 ],
 "metadata": {
  "kernelspec": {
   "display_name": "Python 3",
   "language": "python",
   "name": "python3"
  },
  "language_info": {
   "codemirror_mode": {
    "name": "ipython",
    "version": 3
   },
   "file_extension": ".py",
   "mimetype": "text/x-python",
   "name": "python",
   "nbconvert_exporter": "python",
   "pygments_lexer": "ipython3",
   "version": "3.6.4"
  }
 },
 "nbformat": 4,
 "nbformat_minor": 2
}
