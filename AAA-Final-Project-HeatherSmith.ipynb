{
 "cells": [
  {
   "cell_type": "code",
   "execution_count": 1,
   "metadata": {},
   "outputs": [],
   "source": [
    "# import modules\n",
    "import random"
   ]
  },
  {
   "cell_type": "code",
   "execution_count": null,
   "metadata": {},
   "outputs": [],
   "source": []
  },
  {
   "cell_type": "code",
   "execution_count": 2,
   "metadata": {},
   "outputs": [],
   "source": [
    "#Define Individual Class\n",
    "# needs phenotype attribute\n",
    "\n",
    "class individual:\n",
    "    \n",
    "    def __init__(self,id=\"id\",color=\"white\"): # Add default values for phenotype \n",
    "        self.color=color               #self attribute self.color is called by color \n",
    "        self.id=id\n",
    "## Method to create random indi movement  \n",
    "    \n",
    "    def move(self,s=0.8,l=0.2):   ##  user inpusts stay and leave probabilites for the move funtion with defautl to 0.8 stay\n",
    "        \n",
    "        moves = random.choices(population=['stay','leave'], weights=[s,l]) ## Randomly draws a direction with weight-choices \n",
    "        return moves[0]  ## returns if the indi stays or moves (0 chooses the first element in the output list (this eliminates the ' marks))\n",
    "        "
   ]
  },
  {
   "cell_type": "code",
   "execution_count": null,
   "metadata": {},
   "outputs": [],
   "source": [
    "## Testing individual and move method\n",
    "#for i in range (1,10):\n",
    " #   test1=individual()\n",
    " #   result=test1.move(0.1,0.9)\n"
   ]
  },
  {
   "cell_type": "code",
   "execution_count": 92,
   "metadata": {},
   "outputs": [],
   "source": [
    "#Define Population Class\n",
    "# needs a list of individuals that is updated as indis \n",
    "# needs methods: to add and remove indits; and calculate & print frequency of phenotypes amoong indis.\n",
    "\n",
    "class population:\n",
    "    \n",
    "    def __init__(self,popSize=100,pheno=\"white\",s=0.8,l=0.2):  #setting defaults  \n",
    "        \n",
    "        self.popSize=popSize  ### default population color./phenotype is white\n",
    "        self.leaveProb=l     ## s & l correspond to the default probabilites  staying or leaving (same defauls as the indis)\n",
    "        self.stayProb=s\n",
    "        \n",
    "        \n",
    "        indis_list=[]    ## creating an empty list for individuals \n",
    "        \n",
    "        for i in range (0, popSize):\n",
    "            indis_list.append(individual(id=i+1,color=pheno))   ## append the individual to the empty list, color corresponds to the color of individuals in a population (defult white)\n",
    "        self.indis_list=indis_list\n",
    "                        # This creates a list of individuals in the population. The \n",
    "                        # number of individs equals to popsize (whith phenotypes recorded)\n",
    "   \n",
    "\n",
    " ## Method to add & remove indis from population\n",
    "\n",
    "    def PopMove(self): # make individuals move (stay or leave) \n",
    "        posList=[]     # empty list to store moves\n",
    "        for i in self.indis_list:  \n",
    "            posList.append(i.move(self.stayProb,self.leaveProb))  ## append the movement to the posList. \n",
    "        self.posList=posList   ##save the list as attribute of popuulation \n",
    "        return posList\n",
    "  ## at this point i have 2 lists indis_list and posList that correspond positionally to the individiual and if they stay or left\n",
    "\n",
    " ##method to create lists of stayers and leavers and remove traitors from pop\n",
    "    def DestList(self):\n",
    "        traitors=[]   ##empty lists to store leavers (traitors) and stayers (heros)\n",
    "        heros=[]\n",
    "        \n",
    "           ## next every decision is associated with the inidi from the indis list \n",
    "        for i in range (len(self.posList)):  \n",
    "            if self.posList[i]==\"stay\":\n",
    "                heros.append(self.indis_list[i])\n",
    "            else:\n",
    "                traitors.append(self.indis_list[i])   ## now have lists of indis that stayed and leaved \n",
    "    ## update the population\n",
    "        self.indis_list=heros   \n",
    "        self.popSize= len(heros)\n",
    "        return traitors\n",
    "  \n",
    "       \n",
    "        \n",
    "        ## method to adopt foreign traitors into populaion \n",
    "    def convertTraitors(self,newcomers=[]):\n",
    "          ## newcomers is a list of traitors will be added to this list to be added to poplist\n",
    "        for i in newcomers:\n",
    "            self.indis_list.append(i)\n",
    "        self.popSize=len(self.indis_list)  ##update popsize\n",
    "    \n",
    "## method estimate frequencies \n",
    "\n",
    "    def Frequencies(self):\n",
    "        phenoDict={\"white\":0,\"Black\":0}  # dictionary of phenotypes in population\n",
    "        for i in self.indis_list:\n",
    "            if i.color== \"white\":\n",
    "                phenoDict[\"white\"]=phenoDict[\"white\"]+1   ##update counts for white and black phenos\n",
    "            else:\n",
    "                phenoDict[\"Black\"]=phenoDict[\"Black\"]+1\n",
    "                \n",
    "        whiteFreq=phenoDict[\"white\"]/self.popSize\n",
    "        blackFreq=phenoDict[\"Black\"]/self.popSize   ## calulate the frequenceis\n",
    "        return [whiteFreq,blackFreq]"
   ]
  },
  {
   "cell_type": "code",
   "execution_count": 93,
   "metadata": {},
   "outputs": [
    {
     "name": "stdout",
     "output_type": "stream",
     "text": [
      "100\n",
      "73\n",
      "[1.0, 0.0]\n",
      "pop1 invaded:\n",
      "[0.9733333333333334, 0.02666666666666667]\n"
     ]
    }
   ],
   "source": [
    "## Testing population moveing \n",
    "pop_trait = [individual(color = 'Black'), individual(color = 'Black')]\n",
    "pop1=population() \n",
    "print(pop1.popSize)\n",
    "pop1.PopMove()\n",
    "pop1.DestList()\n",
    "print(pop1.popSize)\n",
    "print(pop1.Frequencies())\n",
    "pop1.convertTraitors(pop_trait)\n",
    "pop1.popSize\n",
    "print('pop1 invaded:')\n",
    "print(pop1.Frequencies())\n"
   ]
  },
  {
   "cell_type": "code",
   "execution_count": 94,
   "metadata": {},
   "outputs": [],
   "source": [
    "#Define Landscape Calss\n",
    "# needs a list of populations and dispersal matrix\n",
    "\n",
    "\n",
    "class Landscape:\n",
    "    def __init__(self,matrix=[[0.8,0.2],[0.9,0.1]]):   ## [default freq for dispersal matrix for pop 1 and pop 2]\n",
    "        self.Rosemarys=population(pheno=\"white\",s=matrix[0][0], l=matrix[0][1])  ## setting the s and l freq as the user input \n",
    "        self.Peters=population(pheno=\"Black\",s=matrix[1][0], l=matrix[1][1])\n",
    "        \n",
    "        ##method to move both pops. \n",
    "    def movePops(self):\n",
    "        self.Rosemarys.PopMove()   ##move pop\n",
    "        RoseTraitors=self.Rosemarys.DestList()  ##create tritors \n",
    "        self.Peters.PopMove()  ##move \n",
    "        PeterTraitors=self.Peters.DestList()  ## get traitors\n",
    "        \n",
    "        self.Rosemarys.convertTraitors(PeterTraitors)  ## adding traitors to pop \n",
    "        self.Peters.convertTraitors(RoseTraitors)\n",
    "        \n",
    "        "
   ]
  }
 ],
 "metadata": {
  "kernelspec": {
   "display_name": "Python 3",
   "language": "python",
   "name": "python3"
  },
  "language_info": {
   "codemirror_mode": {
    "name": "ipython",
    "version": 3
   },
   "file_extension": ".py",
   "mimetype": "text/x-python",
   "name": "python",
   "nbconvert_exporter": "python",
   "pygments_lexer": "ipython3",
   "version": "3.6.4"
  }
 },
 "nbformat": 4,
 "nbformat_minor": 2
}
