{
 "cells": [
  {
   "cell_type": "code",
   "execution_count": 1,
   "metadata": {},
   "outputs": [],
   "source": [
    "# import modules\n",
    "import random"
   ]
  },
  {
   "cell_type": "code",
   "execution_count": null,
   "metadata": {},
   "outputs": [],
   "source": []
  },
  {
   "cell_type": "code",
   "execution_count": 2,
   "metadata": {},
   "outputs": [],
   "source": [
    "#Define Individual Class\n",
    "# needs phenotype attribute\n",
    "\n",
    "class individual:\n",
    "    \n",
    "    def __init__(self,id=\"id\",color=\"white\"): # Add default values for phenotype \n",
    "        self.color=color               #self attribute self.color is called by color \n",
    "        self.id=id\n",
    "## Method to create random indi movement  \n",
    "    \n",
    "    def move(self,s=0.8,l=0.2):   ##  user inpusts stay and leave probabilites for the move funtion with defautl to 0.8 stay\n",
    "        \n",
    "        moves = random.choices(population=['stay','leave'], weights=[s,l]) ## Randomly draws a direction with weight-choices \n",
    "        return moves[0]  ## returns if the indi stays or moves (0 chooses the first element in the output list (this eliminates the ' marks))\n",
    "        "
   ]
  },
  {
   "cell_type": "code",
   "execution_count": null,
   "metadata": {},
   "outputs": [],
   "source": [
    "## Testing individual and move method\n",
    "#for i in range (1,10):\n",
    " #   test1=individual()\n",
    " #   result=test1.move(0.1,0.9)\n"
   ]
  },
  {
   "cell_type": "code",
   "execution_count": 16,
   "metadata": {},
   "outputs": [],
   "source": [
    "#Define Population Class\n",
    "# needs a list of individuals that is updated as indis \n",
    "# needs methods: to add and remove indits; and calculate & print frequency of phenotypes amoong indis.\n",
    "\n",
    "class population:\n",
    "    \n",
    "    def __init__(self,popSize=50,pheno=\"white\",s=0.8,l=0.2):  #setting defaults for movement (the number of steps the indi will take) and population size\n",
    "        \n",
    "        self.popSize=popSize\n",
    "        self.leaveProb=l\n",
    "        self.stayProb=s\n",
    "        \n",
    "        \n",
    "        indis_list=[]    ## creating an empty list for individuals \n",
    "        \n",
    "        for i in range (0, popSize):\n",
    "            indis_list.append(individual(id=i+1,color=pheno))   ## append the individual to the empty list \n",
    "        self.indis_list=indis_list\n",
    "                        # This creates a list of individuals in the population. The \n",
    "                        # number of individs equals to popsize (whith phenotypes recorded)\n",
    "   \n",
    "\n",
    " ## Method to add & remove indis from population\n",
    "\n",
    "    def PopMove(self): # make individuals move based on the default movement \n",
    "        decisionList=[]\n",
    "        for i in self.indis_list:  \n",
    "            decisionList.append(i.move(self.stayProb,self.leaveProb))\n",
    "        return decisionList\n",
    "\n",
    "\n",
    "\n",
    "    "
   ]
  },
  {
   "cell_type": "code",
   "execution_count": 17,
   "metadata": {},
   "outputs": [
    {
     "data": {
      "text/plain": [
       "['stay',\n",
       " 'stay',\n",
       " 'stay',\n",
       " 'stay',\n",
       " 'leave',\n",
       " 'leave',\n",
       " 'stay',\n",
       " 'leave',\n",
       " 'stay',\n",
       " 'stay',\n",
       " 'stay',\n",
       " 'leave',\n",
       " 'stay',\n",
       " 'stay',\n",
       " 'stay',\n",
       " 'leave',\n",
       " 'stay',\n",
       " 'stay',\n",
       " 'stay',\n",
       " 'stay',\n",
       " 'stay',\n",
       " 'stay',\n",
       " 'leave',\n",
       " 'stay',\n",
       " 'stay',\n",
       " 'stay',\n",
       " 'stay',\n",
       " 'stay',\n",
       " 'stay',\n",
       " 'stay',\n",
       " 'stay',\n",
       " 'leave',\n",
       " 'stay',\n",
       " 'stay',\n",
       " 'stay',\n",
       " 'stay',\n",
       " 'stay',\n",
       " 'stay',\n",
       " 'stay',\n",
       " 'stay',\n",
       " 'stay',\n",
       " 'stay',\n",
       " 'stay',\n",
       " 'leave',\n",
       " 'leave',\n",
       " 'stay',\n",
       " 'stay',\n",
       " 'stay',\n",
       " 'stay',\n",
       " 'stay']"
      ]
     },
     "execution_count": 17,
     "metadata": {},
     "output_type": "execute_result"
    }
   ],
   "source": [
    "## Testing population moveing \n",
    "pop1=population() \n",
    "pop1.PopMove()"
   ]
  },
  {
   "cell_type": "code",
   "execution_count": null,
   "metadata": {},
   "outputs": [],
   "source": [
    "#Define Landscape Calss\n",
    "# needs a list of populations and dispersal matrix\n",
    "#methods: uses probibilitites in dispersal matrix to determine if indi moves or stays at each time step\n",
    "\n",
    "class Landscape:\n",
    "    def __init__(self,)"
   ]
  }
 ],
 "metadata": {
  "kernelspec": {
   "display_name": "Python 3",
   "language": "python",
   "name": "python3"
  },
  "language_info": {
   "codemirror_mode": {
    "name": "ipython",
    "version": 3
   },
   "file_extension": ".py",
   "mimetype": "text/x-python",
   "name": "python",
   "nbconvert_exporter": "python",
   "pygments_lexer": "ipython3",
   "version": "3.6.4"
  }
 },
 "nbformat": 4,
 "nbformat_minor": 2
}
