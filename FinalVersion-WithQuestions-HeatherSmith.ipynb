{
 "cells": [
  {
   "cell_type": "code",
   "execution_count": 2,
   "metadata": {},
   "outputs": [],
   "source": [
    "# import modules\n",
    "import random\n",
    "import matplotlib.pyplot as plt"
   ]
  },
  {
   "cell_type": "code",
   "execution_count": null,
   "metadata": {},
   "outputs": [],
   "source": []
  },
  {
   "cell_type": "code",
   "execution_count": 3,
   "metadata": {},
   "outputs": [],
   "source": [
    "#Define Individual Class\n",
    "# needs phenotype attribute\n",
    "\n",
    "class individual:\n",
    "    \n",
    "    def __init__(self,id=\"id\",color=\"white\"): # Add default values for phenotype \n",
    "        self.color=color               #self attribute self.color is called by color \n",
    "        self.id=id\n",
    "## Method to create random indi movement  \n",
    "    \n",
    "    def move(self,s=0.8,l=0.2):   ##  user inpusts stay and leave probabilites for the move funtion with defautl to 0.8 stay\n",
    "        \n",
    "        moves = random.choices(population=['stay','leave'], weights=[s,l]) ## Randomly draws a direction with weight-choices \n",
    "        return moves[0]  ## returns if the indi stays or moves (0 chooses the first element in the output list (this eliminates the ' marks))\n",
    "        "
   ]
  },
  {
   "cell_type": "code",
   "execution_count": null,
   "metadata": {},
   "outputs": [],
   "source": [
    "## Testing individual and move method\n",
    "#for i in range (1,10):\n",
    " #   test1=individual()\n",
    " #   result=test1.move(0.1,0.9)\n"
   ]
  },
  {
   "cell_type": "code",
   "execution_count": 4,
   "metadata": {},
   "outputs": [],
   "source": [
    "#Define Population Class\n",
    "# needs a list of individuals that is updated as indis \n",
    "# needs methods: to add and remove indits; and calculate & print frequency of phenotypes amoong indis.\n",
    "\n",
    "class population:\n",
    "    \n",
    "    def __init__(self,popSize=100,pheno=\"white\",s=0.8,l=0.2):  #setting defaults  \n",
    "        \n",
    "        self.popSize=popSize  ### default population color./phenotype is white\n",
    "        self.leaveProb=l     ## s & l correspond to the default probabilites  staying or leaving (same defauls as the indis)\n",
    "        self.stayProb=s\n",
    "        \n",
    "        \n",
    "        indis_list=[]    ## creating an empty list for individuals \n",
    "        \n",
    "        for i in range (0, popSize):\n",
    "            indis_list.append(individual(id=i+1,color=pheno))   ## append the individual to the empty list, color corresponds to the color of individuals in a population (defult white)\n",
    "        self.indis_list=indis_list\n",
    "                        # This creates a list of individuals in the population. The \n",
    "                        # number of individs equals to popsize (whith phenotypes recorded)\n",
    "   \n",
    "\n",
    " ## Method to add & remove indis from population\n",
    "\n",
    "    def PopMove(self): # make individuals move (stay or leave) \n",
    "        posList=[]     # empty list to store moves\n",
    "        for i in self.indis_list:  \n",
    "            posList.append(i.move(self.stayProb,self.leaveProb))  ## append the movement to the posList. \n",
    "        self.posList=posList   ##save the list as attribute of popuulation \n",
    "        return posList\n",
    "  ## at this point i have 2 lists indis_list and posList that correspond positionally to the individiual and if they stay or left\n",
    "\n",
    " ##method to create lists of stayers and leavers and remove traitors from pop\n",
    "    def DestList(self):\n",
    "        traitors=[]   ##empty lists to store leavers (traitors) and stayers (heros)\n",
    "        heros=[]\n",
    "        \n",
    "           ## next every decision is associated with the inidi from the indis list \n",
    "        for i in range (len(self.posList)):  \n",
    "            if self.posList[i]==\"stay\":\n",
    "                heros.append(self.indis_list[i])\n",
    "            else:\n",
    "                traitors.append(self.indis_list[i])   ## now have lists of indis that stayed and leaved \n",
    "    ## update the population\n",
    "        self.indis_list=heros   \n",
    "        self.popSize= len(heros)\n",
    "        return traitors\n",
    "  \n",
    "       \n",
    "        \n",
    "        ## method to adopt foreign traitors into populaion \n",
    "    def convertTraitors(self,newcomers=[]):\n",
    "          ## newcomers is a list of traitors will be added to this list to be added to poplist\n",
    "        for i in newcomers:\n",
    "            self.indis_list.append(i)\n",
    "        self.popSize=len(self.indis_list)  ##update popsize\n",
    "    \n",
    "## method estimate frequencies \n",
    "\n",
    "    def Frequencies(self):\n",
    "        phenoDict={\"white\":0,\"Black\":0}  # dictionary of phenotypes in population\n",
    "        for i in self.indis_list:\n",
    "            if i.color== \"white\":\n",
    "                phenoDict[\"white\"]=phenoDict[\"white\"]+1   ##update counts for white and black phenos\n",
    "            else:\n",
    "                phenoDict[\"Black\"]=phenoDict[\"Black\"]+1\n",
    "                \n",
    "        whiteFreq=phenoDict[\"white\"]/self.popSize\n",
    "        blackFreq=phenoDict[\"Black\"]/self.popSize   ## calulate the frequenceis\n",
    "        return [whiteFreq,blackFreq]"
   ]
  },
  {
   "cell_type": "code",
   "execution_count": 93,
   "metadata": {},
   "outputs": [
    {
     "name": "stdout",
     "output_type": "stream",
     "text": [
      "100\n",
      "73\n",
      "[1.0, 0.0]\n",
      "pop1 invaded:\n",
      "[0.9733333333333334, 0.02666666666666667]\n"
     ]
    }
   ],
   "source": [
    "## Testing population moveing \n",
    "#pop_trait = [individual(color = 'Black'), individual(color = 'Black')]\n",
    "#pop1=population() \n",
    "#print(pop1.popSize)\n",
    "#pop1.PopMove()\n",
    "#pop1.DestList()\n",
    "#print(pop1.popSize)\n",
    "#print(pop1.Frequencies())\n",
    "#pop1.convertTraitors(pop_trait)\n",
    "#pop1.popSize\n",
    "#print('pop1 invaded:')\n",
    "#print(pop1.Frequencies())\n"
   ]
  },
  {
   "cell_type": "code",
   "execution_count": 5,
   "metadata": {},
   "outputs": [],
   "source": [
    "#Define Landscape Calss\n",
    "# needs a list of populations and dispersal matrix\n",
    "\n",
    "\n",
    "class Landscape:\n",
    "    def __init__(self,matrix=[[0.8,0.2],[0.9,0.1]], weeks=12):   ## [default freq for dispersal matrix for pop 1 and pop 2]\n",
    "        self.weeks=weeks\n",
    "        \n",
    "        self.Rosemarys=population(pheno=\"white\",s=matrix[0][0], l=matrix[0][1])  ## setting the s and l freq as the user input \n",
    "        self.Peters=population(pheno=\"Black\",s=matrix[1][0], l=matrix[1][1])\n",
    "        \n",
    "        self.RoseFreq=[self.Rosemarys.Frequencies()]   ## lists to store frequences and sizes of pops\n",
    "        self.RoseSize=[self.Rosemarys.popSize]\n",
    "        self.PeterFreq=[self.Peters.Frequencies()]\n",
    "        self.PeterSize=[self.Peters.popSize]\n",
    "        \n",
    "        \n",
    "        ##method to move both pops. \n",
    "    def movePops(self):\n",
    "        for i in range (0,self.weeks):\n",
    "            self.Rosemarys.PopMove()   ##move pop\n",
    "            RoseTraitors=self.Rosemarys.DestList()  ##create tritors \n",
    "            self.Peters.PopMove()  ##move \n",
    "            PeterTraitors=self.Peters.DestList()  ## get traitors\n",
    "        \n",
    "            self.Rosemarys.convertTraitors(PeterTraitors)  ## adding traitors to pop \n",
    "            self.Peters.convertTraitors(RoseTraitors)\n",
    "            \n",
    "            \n",
    "            self.RoseFreq.append(self.Rosemarys.Frequencies())  \n",
    "            self.RoseSize.append(self.Rosemarys.popSize)\n",
    "            self.PeterFreq.append(self.Peters.Frequencies())\n",
    "            self.PeterSize.append(self.Peters.popSize)\n",
    "            \n",
    "    def Sizeplot(self):\n",
    "        plt.ylabel(\"Population Size\")\n",
    "        plt.xlabel(\"Weeks\")\n",
    "        plt.plot(range (0,self.weeks+1),self.RoseSize)\n",
    "        plt.plot(range(0,self.weeks+1),self.PeterSize)          ### White population is represented as blue and black population is rep as orange. \n",
    "    \n",
    "    def phenoplot(self):\n",
    "        rosewhitefreq=[x[0] for x in self.RoseFreq]\n",
    "        peterwhitefreq=[x[0] for x in self.PeterFreq]\n",
    "        plt.ylabel(\"White Phenotype Frequency\")\n",
    "        plt.xlabel(\"Weeks\")\n",
    "        plt.plot(range (0,self.weeks+1),rosewhitefreq)\n",
    "        plt.plot(range(0,self.weeks+1),peterwhitefreq)   \n",
    "        "
   ]
  },
  {
   "cell_type": "code",
   "execution_count": 48,
   "metadata": {},
   "outputs": [
    {
     "data": {
      "image/png": "[encoded data removed]",
      "text/plain": [
       "<matplotlib.figure.Figure at 0x7f5279c7ab00>"
      ]
     },
     "metadata": {},
     "output_type": "display_data"
    }
   ],
   "source": [
    "### testing \n",
    "\n",
    "wonderlandPop=population(popSize=100)\n",
    "wonderland=Landscape(matrix=[[0.8,0.2],[0.9,0.1]],weeks=15)\n",
    "wonderland.movePops()\n",
    "wonderland.Sizeplot()\n",
    "\n"
   ]
  },
  {
   "cell_type": "code",
   "execution_count": 49,
   "metadata": {},
   "outputs": [
    {
     "data": {
      "image/png": "[encoded data removed]",
      "text/plain": [
       "<matplotlib.figure.Figure at 0x7f5279f2c6a0>"
      ]
     },
     "metadata": {},
     "output_type": "display_data"
    }
   ],
   "source": [
    "wonderland.phenoplot()"
   ]
  },
  {
   "cell_type": "code",
   "execution_count": 32,
   "metadata": {},
   "outputs": [
    {
     "ename": "SyntaxError",
     "evalue": "invalid syntax (<ipython-input-32-97b4703f26a3>, line 1)",
     "output_type": "error",
     "traceback": [
      "\u001b[0;36m  File \u001b[0;32m\"<ipython-input-32-97b4703f26a3>\"\u001b[0;36m, line \u001b[0;32m1\u001b[0m\n\u001b[0;31m    Questions:\u001b[0m\n\u001b[0m              ^\u001b[0m\n\u001b[0;31mSyntaxError\u001b[0m\u001b[0;31m:\u001b[0m invalid syntax\n"
     ]
    }
   ],
   "source": [
    "Questions:\n",
    "    1. The frequencies of the phentypes osscialte with each other in a consistent fashion. \n",
    "        At the start of the populations, just after mixing the white frequency drops then evens out to roughly half of each population. With the \n",
    "        frequencey of white in the populations rarely changes more than a few percent. \n",
    "        \n",
    "    2. With increase in movement rates, the populations experience greater shifts in population sizes compared to smaller rates of \"leavers\"\n",
    "        The phenotype frequenceis experiences sharp changes at the beginning and then continuous realtively stabel ossicilation.\n",
    "    \n",
    "    3.  As I understnad this questions, we should model if one population the White rosemarys, have a greater probability of retaining its populations, \n",
    "        and of recieving new comers ( so this populations is more prefered). If this is the correct interpertation of the questions then, the white populations\n",
    "        has a much larger population size, but the frequencieis of phenos is realtivley 0.5 because of the increased rate of peters phenos entering the population.\n",
    "        \n",
    "        I also interperted this question a second way, with the meaning that the individuals in the pops have higher frequencies of leaving than staying.\n",
    "        Up to this point all my simulations have had the black poulation (peters) with a higher frequency of staying than the white (rosemarys)\n",
    "        After a few weeks (~6) The phenotypes stays around 50% of the each population comapred to this occuring sooner with more balanced propabilities.\n",
    "    \n",
    "    4. With big populations, the frequencies of the white phenotypes in the rosemary (white) population stay at a frequency usually closer to 0.6, than do \n",
    "        the rosemarys in the peter (black) populations. \n",
    "        with smaller populations the frequencies osscilate closer to 0.5. "
   ]
  }
 ],
 "metadata": {
  "kernelspec": {
   "display_name": "Python 3",
   "language": "python",
   "name": "python3"
  },
  "language_info": {
   "codemirror_mode": {
    "name": "ipython",
    "version": 3
   },
   "file_extension": ".py",
   "mimetype": "text/x-python",
   "name": "python",
   "nbconvert_exporter": "python",
   "pygments_lexer": "ipython3",
   "version": "3.6.4"
  }
 },
 "nbformat": 4,
 "nbformat_minor": 2
}
